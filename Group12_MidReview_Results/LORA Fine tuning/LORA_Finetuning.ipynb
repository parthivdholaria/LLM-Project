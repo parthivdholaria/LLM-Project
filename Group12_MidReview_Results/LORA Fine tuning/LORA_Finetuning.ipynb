{
 "cells": [
  {
   "cell_type": "code",
   "execution_count": 3,
   "metadata": {},
   "outputs": [
    {
     "data": {
      "application/vnd.jupyter.widget-view+json": {
       "model_id": "f6459c8123574132808b0e255dcb0516",
       "version_major": 2,
       "version_minor": 0
      },
      "text/plain": [
       "README.md:   0%|          | 0.00/513 [00:00<?, ?B/s]"
      ]
     },
     "metadata": {},
     "output_type": "display_data"
    },
    {
     "data": {
      "application/vnd.jupyter.widget-view+json": {
       "model_id": "08a2ebefe2b34f1c9bf1ce9b54b9f7ad",
       "version_major": 2,
       "version_minor": 0
      },
      "text/plain": [
       "(…)-00000-of-00001-a80d21074e344c9f.parquet:   0%|          | 0.00/115k [00:00<?, ?B/s]"
      ]
     },
     "metadata": {},
     "output_type": "display_data"
    },
    {
     "data": {
      "application/vnd.jupyter.widget-view+json": {
       "model_id": "79b2ab5ecb5b4adf907a9c0c3d591a77",
       "version_major": 2,
       "version_minor": 0
      },
      "text/plain": [
       "(…)-00000-of-00001-f277902862ffe747.parquet:   0%|          | 0.00/54.2k [00:00<?, ?B/s]"
      ]
     },
     "metadata": {},
     "output_type": "display_data"
    },
    {
     "data": {
      "application/vnd.jupyter.widget-view+json": {
       "model_id": "12abce226bb24d288b20e58a82358c3e",
       "version_major": 2,
       "version_minor": 0
      },
      "text/plain": [
       "Generating train split:   0%|          | 0/700 [00:00<?, ? examples/s]"
      ]
     },
     "metadata": {},
     "output_type": "display_data"
    },
    {
     "data": {
      "application/vnd.jupyter.widget-view+json": {
       "model_id": "576c444291b24fd2826bf116e0591602",
       "version_major": 2,
       "version_minor": 0
      },
      "text/plain": [
       "Generating test split:   0%|          | 0/300 [00:00<?, ? examples/s]"
      ]
     },
     "metadata": {},
     "output_type": "display_data"
    },
    {
     "name": "stdout",
     "output_type": "stream",
     "text": [
      "700 lines converted\n"
     ]
    }
   ],
   "source": [
    "import json\n",
    "from datasets import load_dataset\n",
    "\n",
    "svamp = load_dataset(\"Dahoas/svamp\")\n",
    "\n",
    "split_data = svamp[\"train\"]\n",
    "\n",
    "output_file = \"svamp_train.jsonl\"\n",
    "\n",
    "counter = 0\n",
    "with open(output_file, \"w\") as f:\n",
    "    for item in split_data:\n",
    "        json.dump(item, f)\n",
    "        counter += f.write(\"\\n\")\n",
    "\n",
    "print(f\"{counter} lines converted\")\n"
   ]
  },
  {
   "cell_type": "code",
   "execution_count": 8,
   "metadata": {},
   "outputs": [
    {
     "name": "stdout",
     "output_type": "stream",
     "text": [
      "300 lines converted\n"
     ]
    }
   ],
   "source": [
    "val_data = svamp[\"test\"]\n",
    "\n",
    "counter = 0\n",
    "with open(\"svamp_val.jsonl\", \"w\") as f:\n",
    "    for item in val_data:\n",
    "        json.dump(item, f)\n",
    "        counter += f.write(\"\\n\")\n",
    "\n",
    "print(f\"{counter} lines converted\")"
   ]
  },
  {
   "cell_type": "code",
   "execution_count": 16,
   "metadata": {},
   "outputs": [
    {
     "name": "stderr",
     "output_type": "stream",
     "text": [
      "100%|██████████| 300/300 [02:36<00:00,  1.92it/s]"
     ]
    },
    {
     "name": "stdout",
     "output_type": "stream",
     "text": [
      "Accuracy on validation dataset: 62.66666666666667%\n"
     ]
    },
    {
     "name": "stderr",
     "output_type": "stream",
     "text": [
      "\n"
     ]
    }
   ],
   "source": [
    "import requests\n",
    "import json\n",
    "import re\n",
    "from tqdm import tqdm\n",
    "\n",
    "api_url = \"https://api.fireworks.ai/inference/v1/completions\"\n",
    "\n",
    "api_key = \"fw_3ZkSr8tb43CMCejE78PFAY31\"\n",
    "\n",
    "model_id = \"accounts/parth-dholariya9221-f6d9b9/deployedModels/2bfa82cd43c34837b97800a1c8b640f7-0b3a5ca4\"\n",
    "\n",
    "def query_model(prompt):\n",
    "    headers = {\n",
    "        'Authorization': f'Bearer {api_key}',\n",
    "        'Content-Type': 'application/json'\n",
    "    }\n",
    "\n",
    "    data = {\n",
    "        \"model\": model_id,\n",
    "        \"prompt\": prompt\n",
    "    }\n",
    "\n",
    "    response = requests.post(api_url, headers=headers, json=data)\n",
    "    \n",
    "    if response.status_code == 200:\n",
    "        return response.json()[\"choices\"][0][\"text\"]\n",
    "    else:\n",
    "        print(f\"Error querying model: {response.status_code}, {response.text}\")\n",
    "        return None\n",
    "\n",
    "def extract_number_from_output(output):\n",
    "    match = re.search(r\"####\\s*(\\d+(\\.\\d+)?)\", output)\n",
    "    return float(match.group(1)) if match else None\n",
    "\n",
    "def load_validation_dataset(file_path):\n",
    "    dataset = []\n",
    "    with open(file_path, 'r') as f:\n",
    "        for line in f:\n",
    "            dataset.append(json.loads(line))\n",
    "    return dataset\n",
    "\n",
    "def calculate_accuracy(dataset):\n",
    "    correct = 0\n",
    "    total = len(dataset)\n",
    "    \n",
    "    for example in tqdm(dataset):\n",
    "        prompt = example['prompt']\n",
    "        ground_truth = float(re.search(r\"(\\d+(\\.\\d+)?)\", example['response']).group(1))\n",
    "        \n",
    "        model_output = query_model(prompt)\n",
    "        \n",
    "        if model_output:\n",
    "            predicted_number = extract_number_from_output(model_output)\n",
    "            \n",
    "            if predicted_number == ground_truth:\n",
    "                # print(f\"Match: Predicted {predicted_number}, Expected {ground_truth}\")\n",
    "                correct += 1\n",
    "            else:\n",
    "                pass\n",
    "                # print(f\"Mismatch: Predicted {predicted_number}, Expected {ground_truth}\")\n",
    "        else:\n",
    "            print(f\"Error: No output from model for prompt: {prompt}\")\n",
    "    \n",
    "\n",
    "    accuracy = correct / total * 100\n",
    "    return accuracy\n",
    "\n",
    "file_path = \"svamp_val.jsonl\"\n",
    "validation_dataset = load_validation_dataset(file_path)\n",
    "\n",
    "accuracy = calculate_accuracy(validation_dataset)\n",
    "print(f\"Accuracy on validation dataset: {accuracy}%\")"
   ]
  }
 ],
 "metadata": {
  "kernelspec": {
   "display_name": "Python 3",
   "language": "python",
   "name": "python3"
  },
  "language_info": {
   "codemirror_mode": {
    "name": "ipython",
    "version": 3
   },
   "file_extension": ".py",
   "mimetype": "text/x-python",
   "name": "python",
   "nbconvert_exporter": "python",
   "pygments_lexer": "ipython3",
   "version": "3.11.9"
  }
 },
 "nbformat": 4,
 "nbformat_minor": 2
}
