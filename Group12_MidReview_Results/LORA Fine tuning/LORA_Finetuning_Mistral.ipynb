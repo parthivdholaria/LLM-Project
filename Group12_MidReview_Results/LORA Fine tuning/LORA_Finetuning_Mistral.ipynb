{
 "cells": [
  {
   "cell_type": "code",
   "execution_count": 2,
   "metadata": {},
   "outputs": [
    {
     "name": "stderr",
     "output_type": "stream",
     "text": [
      "100%|██████████| 300/300 [03:23<00:00,  1.47it/s]"
     ]
    },
    {
     "name": "stdout",
     "output_type": "stream",
     "text": [
      "Accuracy on validation dataset: 56.99999999999999%\n"
     ]
    },
    {
     "name": "stderr",
     "output_type": "stream",
     "text": [
      "\n"
     ]
    }
   ],
   "source": [
    "import requests\n",
    "import json\n",
    "import re\n",
    "from tqdm import tqdm\n",
    "\n",
    "api_url = \"https://api.fireworks.ai/inference/v1/completions\"\n",
    "\n",
    "api_key = \"fw_3ZkSr8tb43CMCejE78PFAY31\"\n",
    "\n",
    "model_id = \"accounts/parth-dholariya9221-f6d9b9/deployedModels/6d0be59d52ab4561b0160e8edbee15e9-4978d50f\"\n",
    "\n",
    "def query_model(prompt):\n",
    "    headers = {\n",
    "        'Authorization': f'Bearer {api_key}',\n",
    "        'Content-Type': 'application/json'\n",
    "    }\n",
    "\n",
    "    data = {\n",
    "        \"model\": model_id,\n",
    "        \"prompt\": prompt\n",
    "    }\n",
    "\n",
    "    response = requests.post(api_url, headers=headers, json=data)\n",
    "    \n",
    "    if response.status_code == 200:\n",
    "        return response.json()[\"choices\"][0][\"text\"]\n",
    "    else:\n",
    "        print(f\"Error querying model: {response.status_code}, {response.text}\")\n",
    "        return None\n",
    "\n",
    "def extract_number_from_output(output):\n",
    "    match = re.search(r\"####\\s*(\\d+(\\.\\d+)?)\", output)\n",
    "    return float(match.group(1)) if match else None\n",
    "\n",
    "def load_validation_dataset(file_path):\n",
    "    dataset = []\n",
    "    with open(file_path, 'r') as f:\n",
    "        for line in f:\n",
    "            dataset.append(json.loads(line))\n",
    "    return dataset\n",
    "\n",
    "def calculate_accuracy(dataset):\n",
    "    correct = 0\n",
    "    total = len(dataset)\n",
    "    \n",
    "    for example in tqdm(dataset):\n",
    "        prompt = example['prompt']\n",
    "        ground_truth = float(re.search(r\"(\\d+(\\.\\d+)?)\", example['response']).group(1))\n",
    "        \n",
    "        model_output = query_model(prompt)\n",
    "        \n",
    "        if model_output:\n",
    "            predicted_number = extract_number_from_output(model_output)\n",
    "            \n",
    "            if predicted_number == ground_truth:\n",
    "                # print(f\"Match: Predicted {predicted_number}, Expected {ground_truth}\")\n",
    "                correct += 1\n",
    "            else:\n",
    "                pass\n",
    "                # print(f\"Mismatch: Predicted {predicted_number}, Expected {ground_truth}\")\n",
    "        else:\n",
    "            print(f\"Error: No output from model for prompt: {prompt}\")\n",
    "    \n",
    "\n",
    "    accuracy = correct / total * 100\n",
    "    return accuracy\n",
    "\n",
    "file_path = \"svamp_val.jsonl\"\n",
    "validation_dataset = load_validation_dataset(file_path)\n",
    "\n",
    "accuracy = calculate_accuracy(validation_dataset)\n",
    "print(f\"Accuracy on validation dataset: {accuracy}%\")"
   ]
  }
 ],
 "metadata": {
  "kernelspec": {
   "display_name": "Python 3",
   "language": "python",
   "name": "python3"
  },
  "language_info": {
   "codemirror_mode": {
    "name": "ipython",
    "version": 3
   },
   "file_extension": ".py",
   "mimetype": "text/x-python",
   "name": "python",
   "nbconvert_exporter": "python",
   "pygments_lexer": "ipython3",
   "version": "3.11.9"
  }
 },
 "nbformat": 4,
 "nbformat_minor": 2
}
